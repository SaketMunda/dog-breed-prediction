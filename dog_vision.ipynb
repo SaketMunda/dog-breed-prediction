{
  "nbformat": 4,
  "nbformat_minor": 0,
  "metadata": {
    "colab": {
      "provenance": [],
      "collapsed_sections": [],
      "mount_file_id": "12-Shq3jBm7DjndDzzX3NlqptRut_f8GR",
      "authorship_tag": "ABX9TyOY7gjDOMNb4jzzoy5Rf3hW",
      "include_colab_link": true
    },
    "kernelspec": {
      "name": "python3",
      "display_name": "Python 3"
    },
    "language_info": {
      "name": "python"
    }
  },
  "cells": [
    {
      "cell_type": "markdown",
      "metadata": {
        "id": "view-in-github",
        "colab_type": "text"
      },
      "source": [
        "<a href=\"https://colab.research.google.com/github/SaketMunda/dog-breed-prediction/blob/master/dog_vision.ipynb\" target=\"_parent\"><img src=\"https://colab.research.google.com/assets/colab-badge.svg\" alt=\"Open In Colab\"/></a>"
      ]
    },
    {
      "cell_type": "markdown",
      "source": [],
      "metadata": {
        "id": "r9u2KcLhL23u"
      }
    },
    {
      "cell_type": "markdown",
      "source": [
        "# 🐶 End-to-end Multi-class Dog Breed Classification\n",
        "\n",
        "This notebook builds an end-to-end multi-class image classifier using TensorFlow 2.0 and TensorFlow Hub.\n",
        "\n",
        "## 1. Problem\n",
        "\n",
        "Identifying the breed of a dog given an image of a dog.\n",
        "\n",
        "When I'm travelling somewhere outside in any part of the country, and I see different dogs take pictures of them, I want to know the breed of that dog.\n",
        "\n",
        "## 2. Data\n",
        "\n",
        "The data we're using is from Kaggle's dog breed identification competition.\n",
        "\n",
        "https://www.kaggle.com/competitions/dog-breed-identification/data\n",
        "\n",
        "## 3. Evaluation\n",
        "\n",
        "The evaluation is a file with prediction probabilities for each dog breed of each test image.\n",
        "\n",
        "https://www.kaggle.com/competitions/dog-breed-identification/overview/evaluation\n",
        "\n",
        "## 4. Features\n",
        "\n",
        "Some information about the data:\n",
        "\n",
        "* We're dealing with images(unstructured data) so it's probably best we use deep learning/transfer learning.\n",
        "* There are 120 breeds of dogs (this means there are 120 different classes).\n",
        "* There are around 10,000+ images in the training set. (these image have labels)\n",
        "* There are around 10,000+ images in the test set (these images have no labels, because we'll want to predict them).\n"
      ],
      "metadata": {
        "id": "IrS1jaHjL90A"
      }
    },
    {
      "cell_type": "code",
      "source": [
        "# Importing the TensorFlow hub\n",
        "\n",
        "import tensorflow as tf\n",
        "print(\"TF version:\",tf.__version__)"
      ],
      "metadata": {
        "colab": {
          "base_uri": "https://localhost:8080/"
        },
        "id": "vCk40rLpW6jQ",
        "outputId": "9e34079f-33b6-4339-e791-69cbc5e7da27"
      },
      "execution_count": 4,
      "outputs": [
        {
          "output_type": "stream",
          "name": "stdout",
          "text": [
            "TF version: 2.8.2\n"
          ]
        }
      ]
    },
    {
      "cell_type": "code",
      "execution_count": 3,
      "metadata": {
        "id": "d7PUmiez106S"
      },
      "outputs": [],
      "source": [
        "# Unzip the data in google drive\n",
        "# !unzip \"drive/MyDrive/Data Science/Dog Vision/dog-breed-identification.zip\" -d \"drive/MyDrive/Data Science/Dog Vision\""
      ]
    }
  ]
}